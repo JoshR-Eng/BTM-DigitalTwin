{
 "cells": [
  {
   "cell_type": "markdown",
   "id": "d081e128",
   "metadata": {},
   "source": [
    "Test Methodology\n",
    "- \"BasicEnergyBanalancePlant.slx\" was ran and temperature was sent to a time-series table in the workshop\n",
    "- A python script was ran client-side that passed through the table sending temperatures values one at a time\n",
    "- Temperature data was timestampted before sending, arrival at the cloud and return to the client\n",
    "- Using these time values a round-trip latency value can be determied \n",
    "\n",
    "*Note\n",
    "- Data was sent to Belgium server - due to lower fees\n",
    "- Inspecting data you will see times suggest data arrived at the cloud after if arrived back to the client, this is due to difference in computer clocks\n",
    "    hence, 'server_recieve_time' is invalid data and shouldn't be used\n",
    "\n",
    "Summary\n",
    "- Average Round Trip Latency = 0.387s (3 d.p.) \n",
    "- Given thermal inertia of battery this latency is in acceptable range by exceeding margins"
   ]
  },
  {
   "cell_type": "code",
   "execution_count": 1,
   "id": "43d414dc",
   "metadata": {},
   "outputs": [
    {
     "name": "stdout",
     "output_type": "stream",
     "text": [
      "Round Trip latency 0.3873740473328324\n"
     ]
    }
   ],
   "source": [
    "import pandas as pd\n",
    "\n",
    "log = \"log_file copy.csv\"\n",
    "\n",
    "df = pd.read_csv(log, parse_dates=['client_send_time',\n",
    "                                   'server_recieve_time',\n",
    "                                   'client_recieve_time'])\n",
    "\n",
    "df['round_trip_latency_s'] = (df['client_recieve_time'] - df['client_send_time']).dt.total_seconds() \n",
    "\n",
    "average_rtl = df['round_trip_latency_s'].mean()\n",
    "print(f\"Round Trip latency {average_rtl}\")\n"
   ]
  }
 ],
 "metadata": {
  "kernelspec": {
   "display_name": ".venv",
   "language": "python",
   "name": "python3"
  },
  "language_info": {
   "codemirror_mode": {
    "name": "ipython",
    "version": 3
   },
   "file_extension": ".py",
   "mimetype": "text/x-python",
   "name": "python",
   "nbconvert_exporter": "python",
   "pygments_lexer": "ipython3",
   "version": "3.12.10"
  }
 },
 "nbformat": 4,
 "nbformat_minor": 5
}
